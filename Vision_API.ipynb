{
 "cells": [
  {
   "cell_type": "markdown",
   "metadata": {
    "id": "pjqy7heO706G"
   },
   "source": [
    "# Exploring GPT: Section detailing how to connect"
   ]
  },
  {
   "cell_type": "markdown",
   "metadata": {
    "id": "4VpROz_FfJZn"
   },
   "source": [
    "## Using the API\n",
    "\n",
    "First, you'll need install the OpenAPI via pip.  You can use Unix commands in a colab notebook by prefixing them with an exclamation point. The example below uses a `%` prefix instead—this guarantees that the installation is done using the same Python version that your notebook is using. Change line 2 from `%pip...` to `!pip...` if you're running into trouble."
   ]
  },
  {
   "cell_type": "code",
   "execution_count": 1,
   "metadata": {
    "id": "396iGnE4ra9g"
   },
   "outputs": [],
   "source": [
    "%%capture\n",
    "%pip install openai"
   ]
  },
  {
   "cell_type": "markdown",
   "metadata": {
    "id": "9jdqGfOyrmhG"
   },
   "source": [
    "Next, you will enter your secret key for the OpenAI API. You can generate your OpenAI API key [here](https://platform.openai.com/api-keys). Also, start the service through the client variable."
   ]
  },
  {
   "cell_type": "code",
   "execution_count": 2,
   "metadata": {
    "colab": {
     "base_uri": "https://localhost:8080/"
    },
    "id": "2PIBX87qrlDd",
    "outputId": "4d0b575f-2e1a-48f4-8734-b05e5721b66f"
   },
   "outputs": [
    {
     "name": "stdout",
     "output_type": "stream",
     "text": [
      "Enter OpenAI API key:\n"
     ]
    }
   ],
   "source": [
    "from getpass import getpass\n",
    "import openai\n",
    "import os\n",
    "import time\n",
    "import base64\n",
    "\n",
    "print('Enter OpenAI API key:')\n",
    "openai.api_key = getpass()\n",
    "\n",
    "os.environ['OPENAI_API_KEY']=openai.api_key\n",
    "\n",
    "client = openai.OpenAI()"
   ]
  },
  {
   "cell_type": "code",
   "execution_count": 7,
   "metadata": {},
   "outputs": [
    {
     "name": "stdout",
     "output_type": "stream",
     "text": [
      "Here are the items and their associated prices from the receipt:\n",
      "\n",
      "1. [Burger, 1, $10.00]\n",
      "2. [Salad, 1, $8.00]\n",
      "3. [Soft Drink, 2, $10.00]\n",
      "4. [Pie, 1, $10.00]\n",
      "5. [Tax, 1, $4.50]\n"
     ]
    }
   ],
   "source": [
    "# Function to encode the image\n",
    "def encode_image(image_path):\n",
    "  with open(image_path, \"rb\") as image_file:\n",
    "    return base64.b64encode(image_file.read()).decode('utf-8')\n",
    "\n",
    "# Path to your image (jpg)\n",
    "image_path = \"images/receipt_1.png\"\n",
    "\n",
    "# Getting the base64 string\n",
    "base64_image = encode_image(image_path)\n",
    "\n",
    "response = client.chat.completions.create(\n",
    "  model=\"gpt-4o-mini\",\n",
    "  messages=[\n",
    "    {\n",
    "      \"role\": \"user\",\n",
    "      \"content\": [\n",
    "        {\n",
    "          \"type\": \"text\",\n",
    "          \"text\": \"What are the items and price associated with them? Output each data point as a list [Item, Count, Total Price]\",\n",
    "        },\n",
    "        {\n",
    "          \"type\": \"image_url\",\n",
    "          \"image_url\": {\n",
    "            \"url\":  f\"data:image/jpeg;base64,{base64_image}\"\n",
    "          },\n",
    "        },\n",
    "      ],\n",
    "    }\n",
    "  ],\n",
    ")\n",
    "\n",
    "print(response.choices[0].message.content)"
   ]
  },
  {
   "cell_type": "markdown",
   "metadata": {
    "id": "h5iKKme91RMM"
   },
   "source": [
    "# Experimentation, defining the API function calls for...\n",
    "\n",
    "### 1. City activity finder\n",
    "### 2. Meal Prep Generator\n",
    "\n",
    "\n",
    "\n"
   ]
  },
  {
   "cell_type": "markdown",
   "metadata": {},
   "source": [
    "# Running the functions"
   ]
  },
  {
   "cell_type": "markdown",
   "metadata": {},
   "source": [
    "# Final Thoughts"
   ]
  }
 ],
 "metadata": {
  "colab": {
   "provenance": [],
   "toc_visible": true
  },
  "kernelspec": {
   "display_name": "Python 3",
   "language": "python",
   "name": "python3"
  },
  "language_info": {
   "codemirror_mode": {
    "name": "ipython",
    "version": 3
   },
   "file_extension": ".py",
   "mimetype": "text/x-python",
   "name": "python",
   "nbconvert_exporter": "python",
   "pygments_lexer": "ipython3",
   "version": "3.12.1"
  }
 },
 "nbformat": 4,
 "nbformat_minor": 0
}
